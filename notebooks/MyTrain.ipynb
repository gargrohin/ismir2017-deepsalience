{
 "cells": [
  {
   "cell_type": "code",
   "execution_count": 15,
   "metadata": {},
   "outputs": [],
   "source": [
    "import keras\n",
    "from keras.models import Model\n",
    "from keras.layers import Dense, Input, Reshape, Lambda\n",
    "from keras.layers.convolutional import Conv2D\n",
    "from keras.layers.normalization import BatchNormalization\n",
    "from keras import backend as K\n",
    "import os\n",
    "import numpy as np"
   ]
  },
  {
   "cell_type": "code",
   "execution_count": 23,
   "metadata": {},
   "outputs": [],
   "source": [
    "import experiment\n",
    "import core"
   ]
  },
  {
   "cell_type": "code",
   "execution_count": 16,
   "metadata": {},
   "outputs": [],
   "source": [
    "def model_def():\n",
    "    ### DEFINE MODEL ###\n",
    "    input_shape = (3633, 600, 6)\n",
    "    inputs = Input(shape=input_shape)\n",
    "\n",
    "    y1 = Conv2D(128, (5, 5), padding='same', activation='relu', name='bendy1')(inputs)\n",
    "    y1a = BatchNormalization()(y1)\n",
    "    y2 = Conv2D(64, (5, 5), padding='same', activation='relu', name='bendy2')(y1a)\n",
    "    y2a = BatchNormalization()(y2)\n",
    "    y3 = Conv2D(64, (3, 3), padding='same', activation='relu', name='smoothy1')(y2a)\n",
    "    y3a = BatchNormalization()(y3)\n",
    "    y4 = Conv2D(64, (3, 3), padding='same', activation='relu', name='smoothy2')(y3a)\n",
    "    y4a = BatchNormalization()(y4)\n",
    "    y5 = Conv2D(8, (70, 3), padding='same', activation='relu', name='distribute')(y4a)\n",
    "    y5a = BatchNormalization()(y5)\n",
    "    y6 = Conv2D(1, (1, 1), padding='same', activation='sigmoid', name='squishy')(y5a)\n",
    "    predictions = Lambda(lambda x: K.squeeze(x, axis=3))(y6)\n",
    "\n",
    "    model = Model(inputs=inputs, outputs=predictions)\n",
    "    return model"
   ]
  },
  {
   "cell_type": "code",
   "execution_count": 25,
   "metadata": {},
   "outputs": [],
   "source": [
    "#tracks = [daisy,pop,jazz,midi,opera]\n",
    "tracks = [\"daisy\"]\n",
    "data = np.load(\"daisy1.npz\")\n",
    "xtrain = np.array([data['data_in'].T])\n",
    "#print(xtrain.shape)\n",
    "ytrain = np.array([data['data_out'].T])\n",
    "#print(ytrain.shape)\n",
    "model = model_def()\n",
    "model.compile( loss=core.bkld, metrics=['mse', core.soft_binary_accuracy], optimizer='adam' )\n",
    "model.fit(xtrain,ytrain)"
   ]
  },
  {
   "cell_type": "code",
   "execution_count": 20,
   "metadata": {},
   "outputs": [
    {
     "name": "stdout",
     "output_type": "stream",
     "text": [
      "/mnt/Stuff/Acads/UGP/ismir2017-deepsalience/output2/training_data\n"
     ]
    }
   ],
   "source": [
    "cd ../output2/training_data/"
   ]
  }
 ],
 "metadata": {
  "kernelspec": {
   "display_name": "Python 3",
   "language": "python",
   "name": "python3"
  },
  "language_info": {
   "codemirror_mode": {
    "name": "ipython",
    "version": 3
   },
   "file_extension": ".py",
   "mimetype": "text/x-python",
   "name": "python",
   "nbconvert_exporter": "python",
   "pygments_lexer": "ipython3",
   "version": "3.7.1"
  }
 },
 "nbformat": 4,
 "nbformat_minor": 2
}
